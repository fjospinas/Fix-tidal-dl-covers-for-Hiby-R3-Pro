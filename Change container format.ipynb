{
 "cells": [
  {
   "cell_type": "code",
   "execution_count": null,
   "metadata": {},
   "outputs": [],
   "source": [
    "import os\n",
    "import re\n",
    "import subprocess as sp"
   ]
  },
  {
   "cell_type": "code",
   "execution_count": null,
   "metadata": {},
   "outputs": [],
   "source": [
    "root_path = '/mnt/disk/backup/Backup/Music_Luciana/Tidal/'\n",
    "output_path = '/home/pacho/Music_Luciana/Tidal/'"
   ]
  },
  {
   "cell_type": "code",
   "execution_count": null,
   "metadata": {},
   "outputs": [],
   "source": [
    "lst_folders = os.listdir(root_path)"
   ]
  },
  {
   "cell_type": "code",
   "execution_count": null,
   "metadata": {},
   "outputs": [],
   "source": [
    "def make_dir(path):\n",
    "    command = ['mkdir', '-p', path]\n",
    "    sp.run(command)\n",
    "    \n",
    "def copy_file(origin, destination):\n",
    "    command = ['cp', origin, destination]\n",
    "    sp.run(command)\n",
    "    \n",
    "    \n",
    "def convert_file(origin, destination):\n",
    "    command = ['ffmpeg', '-i', origin, '-ab', '320k', '-map_metadata', '0', '-id3v2_version', '3', destination]\n",
    "    sp.run(command)\n",
    "        \n",
    "def fix_covers(root_path, output_path):\n",
    "    \n",
    "    make_dir(output_path)\n",
    "\n",
    "    lst_files = os.listdir(root_path)\n",
    "    lst_files.sort()\n",
    "    \n",
    "    for file in lst_files:\n",
    "        new_origin_path = os.path.join(root_path, file)\n",
    "        new_destination_path = os.path.join(output_path, file)\n",
    "        \n",
    "        if os.path.isdir(new_origin_path):\n",
    "            print('Convert file in path: {} to mp3'.format(new_origin_path))\n",
    "            fix_covers(new_origin_path, new_destination_path)\n",
    "                 \n",
    "        elif re.match(pattern='^.*.jpg$', string=new_origin_path):\n",
    "            copy_file(new_origin_path, new_destination_path)\n",
    "            \n",
    "        elif re.match(pattern='^.*\\.flac$', string=new_origin_path):\n",
    "            new_destination_path = new_destination_path.replace('.flac', '.mp3')\n",
    "            convert_file(new_origin_path, new_destination_path)"
   ]
  },
  {
   "cell_type": "code",
   "execution_count": null,
   "metadata": {
    "scrolled": true
   },
   "outputs": [],
   "source": [
    "fix_covers(root_path, output_path)"
   ]
  },
  {
   "cell_type": "code",
   "execution_count": null,
   "metadata": {},
   "outputs": [],
   "source": []
  }
 ],
 "metadata": {
  "kernelspec": {
   "display_name": "Python 3 (ipykernel)",
   "language": "python",
   "name": "python3"
  },
  "language_info": {
   "codemirror_mode": {
    "name": "ipython",
    "version": 3
   },
   "file_extension": ".py",
   "mimetype": "text/x-python",
   "name": "python",
   "nbconvert_exporter": "python",
   "pygments_lexer": "ipython3",
   "version": "3.9.14"
  }
 },
 "nbformat": 4,
 "nbformat_minor": 4
}
