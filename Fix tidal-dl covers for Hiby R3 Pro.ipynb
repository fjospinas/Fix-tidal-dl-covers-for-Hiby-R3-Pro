{
 "cells": [
  {
   "cell_type": "code",
   "execution_count": null,
   "metadata": {},
   "outputs": [],
   "source": [
    "import os\n",
    "import re\n",
    "import subprocess as sp"
   ]
  },
  {
   "cell_type": "code",
   "execution_count": null,
   "metadata": {},
   "outputs": [],
   "source": [
    "root_path = '/mnt/disk/Music/Tidal/'"
   ]
  },
  {
   "cell_type": "code",
   "execution_count": null,
   "metadata": {},
   "outputs": [],
   "source": [
    "lst_folders = os.listdir(root_path)"
   ]
  },
  {
   "cell_type": "code",
   "execution_count": null,
   "metadata": {},
   "outputs": [],
   "source": [
    "def convert_cover(old_file, new_file):\n",
    "    command = ['convert', old_file, '-resize', '500x500', new_file]\n",
    "    sp.run(command)\n",
    "    \n",
    "def extract_metadata_cover(flac_file, jpg_file):\n",
    "    command = ['metaflac', '--export-picture-to={}'.format(jpg_file), flac_file]\n",
    "    sp.run(command)\n",
    "    command2 = ['convert', jpg_file, '-resize', '500x500', jpg_file]\n",
    "    sp.run(command2)\n",
    "    \n",
    "\n",
    "def fix_albums(path):\n",
    "\n",
    "    lst_files = os.listdir(path)\n",
    "    \n",
    "    for file in lst_files:\n",
    "        new_path = os.path.join(path, file)\n",
    "        if os.path.isdir(new_path):\n",
    "            fix_albums(new_path)\n",
    "        elif re.match(pattern='^.*\\.(jpg|png|jpeg)$', string=new_path):\n",
    "            convert_cover(old_file=new_path, new_file=os.path.join(path, 'folder.jpg'))\n",
    "\n",
    "\n",
    "def fix_covers(path):\n",
    "\n",
    "    lst_files = os.listdir(path)\n",
    "    lst_files.sort()\n",
    "    \n",
    "    for file in lst_files:\n",
    "        new_path = os.path.join(path, file)\n",
    "        \n",
    "        if os.path.isdir(new_path):\n",
    "            print('Fix cover in path: {}'.format(new_path))\n",
    "            fix_covers(new_path)\n",
    "        \n",
    "        elif re.match(pattern='^.*Album.*$', string=path):\n",
    "            \n",
    "            if re.match(pattern='^.*\\.(jpg|png|jpeg)$', string=new_path):\n",
    "                convert_cover(old_file=new_path, new_file=os.path.join(path, 'folder.jpg'))\n",
    "        \n",
    "        elif re.match(pattern='^.*Playlist.*$', string=path):\n",
    "            \n",
    "            if re.match(pattern='^.*\\.flac$', string=new_path):\n",
    "                \n",
    "                jpg_file = new_path.replace('.flac', '.jpg')\n",
    "                extract_metadata_cover(flac_file=new_path, jpg_file=jpg_file)                                "
   ]
  },
  {
   "cell_type": "code",
   "execution_count": null,
   "metadata": {
    "scrolled": false
   },
   "outputs": [],
   "source": [
    "fix_covers(root_path)"
   ]
  }
 ],
 "metadata": {
  "kernelspec": {
   "display_name": "Python 3",
   "language": "python",
   "name": "python3"
  },
  "language_info": {
   "codemirror_mode": {
    "name": "ipython",
    "version": 3
   },
   "file_extension": ".py",
   "mimetype": "text/x-python",
   "name": "python",
   "nbconvert_exporter": "python",
   "pygments_lexer": "ipython3",
   "version": "3.8.3"
  }
 },
 "nbformat": 4,
 "nbformat_minor": 4
}
