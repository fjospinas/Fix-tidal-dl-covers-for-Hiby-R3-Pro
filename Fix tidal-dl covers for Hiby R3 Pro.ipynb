{
 "cells": [
  {
   "cell_type": "code",
   "execution_count": null,
   "metadata": {},
   "outputs": [],
   "source": [
    "import os\n",
    "import re\n",
    "import subprocess as sp"
   ]
  },
  {
   "cell_type": "code",
   "execution_count": null,
   "metadata": {},
   "outputs": [],
   "source": [
    "root_path = '/mnt/disk/backup/Backup/Music/'\n",
    "#root_path = '/mnt/disk/Music_Luciana/Tidal/'"
   ]
  },
  {
   "cell_type": "code",
   "execution_count": null,
   "metadata": {},
   "outputs": [],
   "source": [
    "lst_folders = os.listdir(root_path)"
   ]
  },
  {
   "cell_type": "code",
   "execution_count": null,
   "metadata": {},
   "outputs": [],
   "source": [
    "def remove_cover(file):\n",
    "    command = ['rm', file]\n",
    "    sp.run(command)\n",
    "    \n",
    "def extract_metadata_cover(flac_file, jpg_file):\n",
    "    command = ['metaflac', '--export-picture-to={}'.format(jpg_file), flac_file]\n",
    "    sp.run(command)\n",
    "    command2 = ['convert', jpg_file, '-resize', '500x500', jpg_file]\n",
    "    sp.run(command2)\n",
    "    \n",
    "def rename_old_file(old_file, new_file):\n",
    "    command = ['mv', old_file, ]\n",
    "    #print(command)\n",
    "    sp.run(command)\n",
    "        \n",
    "def fix_covers(path):\n",
    "\n",
    "    lst_files = os.listdir(path)\n",
    "    lst_files.sort()\n",
    "    \n",
    "    for file in lst_files:\n",
    "        new_path = os.path.join(path, file)\n",
    "        \n",
    "        if os.path.isdir(new_path):\n",
    "            print('Fix cover in path: {}'.format(new_path))\n",
    "            fix_covers(new_path)\n",
    "        \n",
    "        elif re.match(pattern='^.*Album.*$', string=path):\n",
    "            \n",
    "            if re.match(pattern='^.*cover\\.jpg$', string=new_path):\n",
    "                remove_cover(new_path)\n",
    "            \n",
    "            if re.match(pattern='^.*\\.flac$', string=new_path):\n",
    "                jpg_file = os.path.join(path, 'folder.jpg')\n",
    "                if not os.path.exists(jpg_file):\n",
    "                    extract_metadata_cover(flac_file=new_path, jpg_file=jpg_file)       \n",
    "                \n",
    "        elif re.match(pattern='^.*Playlist.*$', string=path):\n",
    "            \n",
    "            if re.match(pattern='^.*\\.flac$', string=new_path):\n",
    "                \n",
    "                jpg_file = new_path.replace('.flac', '.jpg')\n",
    "                if not os.path.exists(jpg_file):\n",
    "                    extract_metadata_cover(flac_file=new_path, jpg_file=jpg_file)                                "
   ]
  },
  {
   "cell_type": "code",
   "execution_count": null,
   "metadata": {
    "scrolled": false
   },
   "outputs": [],
   "source": [
    "fix_covers(root_path)"
   ]
  },
  {
   "cell_type": "code",
   "execution_count": null,
   "metadata": {},
   "outputs": [],
   "source": []
  }
 ],
 "metadata": {
  "kernelspec": {
   "display_name": "Python 3 (ipykernel)",
   "language": "python",
   "name": "python3"
  },
  "language_info": {
   "codemirror_mode": {
    "name": "ipython",
    "version": 3
   },
   "file_extension": ".py",
   "mimetype": "text/x-python",
   "name": "python",
   "nbconvert_exporter": "python",
   "pygments_lexer": "ipython3",
   "version": "3.9.14"
  }
 },
 "nbformat": 4,
 "nbformat_minor": 4
}
